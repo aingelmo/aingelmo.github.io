{
 "cells": [
  {
   "cell_type": "markdown",
   "metadata": {},
   "source": [
    "# Ford GoBike dataset analysis\n",
    "## by Andrés Ingelmo Poveda\n",
    "\n",
    "## Preliminary Wrangling\n",
    "\n",
    "This dataset includes informationabout individual rides made in a bike-sharing system covering the greater San Francisco area during the month of February 2019. Questions like \"how long does the average trip take\" or \"how does suscription status impacts in the results\" will be answered. "
   ]
  },
  {
   "cell_type": "code",
   "execution_count": 1,
   "metadata": {},
   "outputs": [],
   "source": [
    "# import all packages and set plots to be embedded inline\n",
    "import numpy as np\n",
    "import pandas as pd\n",
    "import matplotlib.pyplot as plt\n",
    "import seaborn as sb\n",
    "import os\n",
    "import requests\n",
    "\n",
    "%matplotlib inline"
   ]
  },
  {
   "cell_type": "code",
   "execution_count": 2,
   "metadata": {},
   "outputs": [],
   "source": [
    "url = \"https://video.udacity-data.com/topher/2020/October/5f91cf38_201902-fordgobike-tripdata/201902-fordgobike-tripdata.csv\"\n",
    "file = \"fordgobikedata.csv\"\n",
    "\n",
    "# Function to get the file from the cloud\n",
    "def get_file(url, file):\n",
    "    # Get the file from the cloud\n",
    "    content = requests.get(url).text\n",
    "    # Write the file into \"fordgobikedata.csv\"\n",
    "    with open(file, \"w\", encoding=\"utf-8\") as f:\n",
    "        f.write(content)\n",
    "        \n",
    "##Run only the first time to get the file from the cloud!\n",
    "#get_file(url, file) ##<-- Remove \"#\" to run \n",
    "\n",
    "# Load the csv file into a pandas dataframe\n",
    "ford = pd.read_csv(file)"
   ]
  },
  {
   "cell_type": "markdown",
   "metadata": {},
   "source": [
    "### What is the structure of your dataset?"
   ]
  },
  {
   "cell_type": "code",
   "execution_count": 3,
   "metadata": {},
   "outputs": [
    {
     "data": {
      "text/html": [
       "<div>\n",
       "<style scoped>\n",
       "    .dataframe tbody tr th:only-of-type {\n",
       "        vertical-align: middle;\n",
       "    }\n",
       "\n",
       "    .dataframe tbody tr th {\n",
       "        vertical-align: top;\n",
       "    }\n",
       "\n",
       "    .dataframe thead th {\n",
       "        text-align: right;\n",
       "    }\n",
       "</style>\n",
       "<table border=\"1\" class=\"dataframe\">\n",
       "  <thead>\n",
       "    <tr style=\"text-align: right;\">\n",
       "      <th></th>\n",
       "      <th>duration_sec</th>\n",
       "      <th>start_time</th>\n",
       "      <th>end_time</th>\n",
       "      <th>start_station_id</th>\n",
       "      <th>start_station_name</th>\n",
       "      <th>start_station_latitude</th>\n",
       "      <th>start_station_longitude</th>\n",
       "      <th>end_station_id</th>\n",
       "      <th>end_station_name</th>\n",
       "      <th>end_station_latitude</th>\n",
       "      <th>end_station_longitude</th>\n",
       "      <th>bike_id</th>\n",
       "      <th>user_type</th>\n",
       "      <th>member_birth_year</th>\n",
       "      <th>member_gender</th>\n",
       "      <th>bike_share_for_all_trip</th>\n",
       "    </tr>\n",
       "  </thead>\n",
       "  <tbody>\n",
       "    <tr>\n",
       "      <th>0</th>\n",
       "      <td>52185</td>\n",
       "      <td>2019-02-28 17:32:10.1450</td>\n",
       "      <td>2019-03-01 08:01:55.9750</td>\n",
       "      <td>21.0</td>\n",
       "      <td>Montgomery St BART Station (Market St at 2nd St)</td>\n",
       "      <td>37.789625</td>\n",
       "      <td>-122.400811</td>\n",
       "      <td>13.0</td>\n",
       "      <td>Commercial St at Montgomery St</td>\n",
       "      <td>37.794231</td>\n",
       "      <td>-122.402923</td>\n",
       "      <td>4902</td>\n",
       "      <td>Customer</td>\n",
       "      <td>1984.0</td>\n",
       "      <td>Male</td>\n",
       "      <td>No</td>\n",
       "    </tr>\n",
       "    <tr>\n",
       "      <th>1</th>\n",
       "      <td>42521</td>\n",
       "      <td>2019-02-28 18:53:21.7890</td>\n",
       "      <td>2019-03-01 06:42:03.0560</td>\n",
       "      <td>23.0</td>\n",
       "      <td>The Embarcadero at Steuart St</td>\n",
       "      <td>37.791464</td>\n",
       "      <td>-122.391034</td>\n",
       "      <td>81.0</td>\n",
       "      <td>Berry St at 4th St</td>\n",
       "      <td>37.775880</td>\n",
       "      <td>-122.393170</td>\n",
       "      <td>2535</td>\n",
       "      <td>Customer</td>\n",
       "      <td>NaN</td>\n",
       "      <td>NaN</td>\n",
       "      <td>No</td>\n",
       "    </tr>\n",
       "    <tr>\n",
       "      <th>2</th>\n",
       "      <td>61854</td>\n",
       "      <td>2019-02-28 12:13:13.2180</td>\n",
       "      <td>2019-03-01 05:24:08.1460</td>\n",
       "      <td>86.0</td>\n",
       "      <td>Market St at Dolores St</td>\n",
       "      <td>37.769305</td>\n",
       "      <td>-122.426826</td>\n",
       "      <td>3.0</td>\n",
       "      <td>Powell St BART Station (Market St at 4th St)</td>\n",
       "      <td>37.786375</td>\n",
       "      <td>-122.404904</td>\n",
       "      <td>5905</td>\n",
       "      <td>Customer</td>\n",
       "      <td>1972.0</td>\n",
       "      <td>Male</td>\n",
       "      <td>No</td>\n",
       "    </tr>\n",
       "    <tr>\n",
       "      <th>3</th>\n",
       "      <td>36490</td>\n",
       "      <td>2019-02-28 17:54:26.0100</td>\n",
       "      <td>2019-03-01 04:02:36.8420</td>\n",
       "      <td>375.0</td>\n",
       "      <td>Grove St at Masonic Ave</td>\n",
       "      <td>37.774836</td>\n",
       "      <td>-122.446546</td>\n",
       "      <td>70.0</td>\n",
       "      <td>Central Ave at Fell St</td>\n",
       "      <td>37.773311</td>\n",
       "      <td>-122.444293</td>\n",
       "      <td>6638</td>\n",
       "      <td>Subscriber</td>\n",
       "      <td>1989.0</td>\n",
       "      <td>Other</td>\n",
       "      <td>No</td>\n",
       "    </tr>\n",
       "    <tr>\n",
       "      <th>4</th>\n",
       "      <td>1585</td>\n",
       "      <td>2019-02-28 23:54:18.5490</td>\n",
       "      <td>2019-03-01 00:20:44.0740</td>\n",
       "      <td>7.0</td>\n",
       "      <td>Frank H Ogawa Plaza</td>\n",
       "      <td>37.804562</td>\n",
       "      <td>-122.271738</td>\n",
       "      <td>222.0</td>\n",
       "      <td>10th Ave at E 15th St</td>\n",
       "      <td>37.792714</td>\n",
       "      <td>-122.248780</td>\n",
       "      <td>4898</td>\n",
       "      <td>Subscriber</td>\n",
       "      <td>1974.0</td>\n",
       "      <td>Male</td>\n",
       "      <td>Yes</td>\n",
       "    </tr>\n",
       "  </tbody>\n",
       "</table>\n",
       "</div>"
      ],
      "text/plain": [
       "   duration_sec                start_time                  end_time  \\\n",
       "0         52185  2019-02-28 17:32:10.1450  2019-03-01 08:01:55.9750   \n",
       "1         42521  2019-02-28 18:53:21.7890  2019-03-01 06:42:03.0560   \n",
       "2         61854  2019-02-28 12:13:13.2180  2019-03-01 05:24:08.1460   \n",
       "3         36490  2019-02-28 17:54:26.0100  2019-03-01 04:02:36.8420   \n",
       "4          1585  2019-02-28 23:54:18.5490  2019-03-01 00:20:44.0740   \n",
       "\n",
       "   start_station_id                                start_station_name  \\\n",
       "0              21.0  Montgomery St BART Station (Market St at 2nd St)   \n",
       "1              23.0                     The Embarcadero at Steuart St   \n",
       "2              86.0                           Market St at Dolores St   \n",
       "3             375.0                           Grove St at Masonic Ave   \n",
       "4               7.0                               Frank H Ogawa Plaza   \n",
       "\n",
       "   start_station_latitude  start_station_longitude  end_station_id  \\\n",
       "0               37.789625              -122.400811            13.0   \n",
       "1               37.791464              -122.391034            81.0   \n",
       "2               37.769305              -122.426826             3.0   \n",
       "3               37.774836              -122.446546            70.0   \n",
       "4               37.804562              -122.271738           222.0   \n",
       "\n",
       "                               end_station_name  end_station_latitude  \\\n",
       "0                Commercial St at Montgomery St             37.794231   \n",
       "1                            Berry St at 4th St             37.775880   \n",
       "2  Powell St BART Station (Market St at 4th St)             37.786375   \n",
       "3                        Central Ave at Fell St             37.773311   \n",
       "4                         10th Ave at E 15th St             37.792714   \n",
       "\n",
       "   end_station_longitude  bike_id   user_type  member_birth_year  \\\n",
       "0            -122.402923     4902    Customer             1984.0   \n",
       "1            -122.393170     2535    Customer                NaN   \n",
       "2            -122.404904     5905    Customer             1972.0   \n",
       "3            -122.444293     6638  Subscriber             1989.0   \n",
       "4            -122.248780     4898  Subscriber             1974.0   \n",
       "\n",
       "  member_gender bike_share_for_all_trip  \n",
       "0          Male                      No  \n",
       "1           NaN                      No  \n",
       "2          Male                      No  \n",
       "3         Other                      No  \n",
       "4          Male                     Yes  "
      ]
     },
     "execution_count": 3,
     "metadata": {},
     "output_type": "execute_result"
    }
   ],
   "source": [
    "ford.head(5)"
   ]
  },
  {
   "cell_type": "code",
   "execution_count": 4,
   "metadata": {
    "scrolled": true
   },
   "outputs": [
    {
     "name": "stdout",
     "output_type": "stream",
     "text": [
      "<class 'pandas.core.frame.DataFrame'>\n",
      "RangeIndex: 183412 entries, 0 to 183411\n",
      "Data columns (total 16 columns):\n",
      " #   Column                   Non-Null Count   Dtype  \n",
      "---  ------                   --------------   -----  \n",
      " 0   duration_sec             183412 non-null  int64  \n",
      " 1   start_time               183412 non-null  object \n",
      " 2   end_time                 183412 non-null  object \n",
      " 3   start_station_id         183215 non-null  float64\n",
      " 4   start_station_name       183215 non-null  object \n",
      " 5   start_station_latitude   183412 non-null  float64\n",
      " 6   start_station_longitude  183412 non-null  float64\n",
      " 7   end_station_id           183215 non-null  float64\n",
      " 8   end_station_name         183215 non-null  object \n",
      " 9   end_station_latitude     183412 non-null  float64\n",
      " 10  end_station_longitude    183412 non-null  float64\n",
      " 11  bike_id                  183412 non-null  int64  \n",
      " 12  user_type                183412 non-null  object \n",
      " 13  member_birth_year        175147 non-null  float64\n",
      " 14  member_gender            175147 non-null  object \n",
      " 15  bike_share_for_all_trip  183412 non-null  object \n",
      "dtypes: float64(7), int64(2), object(7)\n",
      "memory usage: 22.4+ MB\n"
     ]
    }
   ],
   "source": [
    "ford.info()"
   ]
  },
  {
   "cell_type": "markdown",
   "metadata": {},
   "source": [
    "### What is/are the feature(s) of interest in your dataset?\n",
    "\n",
    "The main features of interest in the data are:\n",
    "- `duration_sec`: the main feature of exploration.\n",
    "- `start_time`and `end_time`: it can provide valuable data regarding the busiest hours.\n",
    "- `start_station_id` and `end_station_id`: it can provide data regarding the busiest stations.\n",
    "- `bike_id`: is there any bike that is more used than others?\n",
    "- `user_type`: it can provide valuable data regarding different behaviours from customers and suscribers.\n",
    "- `member_birth_year`: are young people using bikesharing more?\n",
    "- `member_gender`: is gender determinant while bikesharing? is there a different behaviour?"
   ]
  },
  {
   "cell_type": "markdown",
   "metadata": {},
   "source": [
    "The data needs some cleaning to convert the variables into its correct type. But first, a copy of the original dataframe will be done."
   ]
  },
  {
   "cell_type": "code",
   "execution_count": 33,
   "metadata": {},
   "outputs": [],
   "source": [
    "#Create a copy of the original\n",
    "ford_clean = ford.copy()\n",
    "\n",
    "\n",
    "#Convert to date/time\n",
    "ford_clean[\"start_time\"] = pd.to_datetime(ford_clean[\"start_time\"])\n",
    "ford_clean[\"end_time\"] = pd.to_datetime(ford_clean[\"end_time\"])\n",
    "\n",
    "#Divide date/time variables in order to plot it correctly\n",
    "ford_clean[\"start_time_hour\"] = pd.DatetimeIndex(ford_clean[\"start_time\"]).hour\n",
    "ford_clean[\"end_time_hour\"] = pd.DatetimeIndex(ford_clean[\"end_time\"]).hour\n",
    "\n",
    "#Get day of the week for the start an end time.\n",
    "ford_clean[\"start_time_weekday\"] = ford_clean[\"start_time\"].dt.dayofweek\n",
    "ford_clean[\"end_time_weekday\"] = ford_clean[\"end_time\"].dt.dayofweek\n",
    "\n",
    "#Convert day of the week to string\n",
    "week_dict = {0: \"Monday\", 1: \"Tuesday\", 2: \"Wednesday\", 3: \"Thursday\", 4: \"Friday\", 5: \"Saturday\", 6: \"Sunday\"}\n",
    "\n",
    "ford_clean[\"start_time_weekday\"].replace(week_dict, inplace=True)\n",
    "ford_clean[\"end_time_weekday\"].replace(week_dict, inplace=True)\n",
    "\n",
    "#Convert to strings as not calculations are required for the data below\n",
    "to_clean = [\"start_station_id\", \"end_station_id\", \"bike_id\"]\n",
    "\n",
    "for i in to_clean:\n",
    "    ford_clean[i] = ford_clean[i].fillna(0).astype(int).astype(str) \n",
    "\n",
    "#Convert year of birth to int\n",
    "ford_clean[\"member_birth_year\"] = ford_clean[\"member_birth_year\"].fillna(0).astype(int)\n",
    "    \n",
    "#Convert to categorical values\n",
    "ford_clean[\"member_gender\"] = ford_clean[\"member_gender\"].astype(\"category\")\n",
    "ford_clean[\"user_type\"] = ford_clean[\"user_type\"].astype(\"category\")\n",
    "\n",
    "    \n",
    "#Drop Columns not necessary for the analysis\n",
    "ford_clean.drop(labels=[\"start_station_latitude\", \"start_station_longitude\", \"end_station_latitude\", \"end_station_longitude\"], axis=1, inplace=True);"
   ]
  },
  {
   "cell_type": "code",
   "execution_count": 34,
   "metadata": {
    "scrolled": true
   },
   "outputs": [
    {
     "name": "stdout",
     "output_type": "stream",
     "text": [
      "<class 'pandas.core.frame.DataFrame'>\n",
      "RangeIndex: 183412 entries, 0 to 183411\n",
      "Data columns (total 16 columns):\n",
      " #   Column                   Non-Null Count   Dtype         \n",
      "---  ------                   --------------   -----         \n",
      " 0   duration_sec             183412 non-null  int64         \n",
      " 1   start_time               183412 non-null  datetime64[ns]\n",
      " 2   end_time                 183412 non-null  datetime64[ns]\n",
      " 3   start_station_id         183412 non-null  object        \n",
      " 4   start_station_name       183215 non-null  object        \n",
      " 5   end_station_id           183412 non-null  object        \n",
      " 6   end_station_name         183215 non-null  object        \n",
      " 7   bike_id                  183412 non-null  object        \n",
      " 8   user_type                183412 non-null  category      \n",
      " 9   member_birth_year        183412 non-null  int32         \n",
      " 10  member_gender            175147 non-null  category      \n",
      " 11  bike_share_for_all_trip  183412 non-null  object        \n",
      " 12  start_time_hour          183412 non-null  int64         \n",
      " 13  end_time_hour            183412 non-null  int64         \n",
      " 14  start_time_weekday       183412 non-null  object        \n",
      " 15  end_time_weekday         183412 non-null  object        \n",
      "dtypes: category(2), datetime64[ns](2), int32(1), int64(3), object(8)\n",
      "memory usage: 19.2+ MB\n"
     ]
    }
   ],
   "source": [
    "ford_clean.info()"
   ]
  },
  {
   "cell_type": "code",
   "execution_count": 35,
   "metadata": {
    "scrolled": true
   },
   "outputs": [
    {
     "data": {
      "text/html": [
       "<div>\n",
       "<style scoped>\n",
       "    .dataframe tbody tr th:only-of-type {\n",
       "        vertical-align: middle;\n",
       "    }\n",
       "\n",
       "    .dataframe tbody tr th {\n",
       "        vertical-align: top;\n",
       "    }\n",
       "\n",
       "    .dataframe thead th {\n",
       "        text-align: right;\n",
       "    }\n",
       "</style>\n",
       "<table border=\"1\" class=\"dataframe\">\n",
       "  <thead>\n",
       "    <tr style=\"text-align: right;\">\n",
       "      <th></th>\n",
       "      <th>duration_sec</th>\n",
       "      <th>start_time</th>\n",
       "      <th>end_time</th>\n",
       "      <th>start_station_id</th>\n",
       "      <th>start_station_name</th>\n",
       "      <th>end_station_id</th>\n",
       "      <th>end_station_name</th>\n",
       "      <th>bike_id</th>\n",
       "      <th>user_type</th>\n",
       "      <th>member_birth_year</th>\n",
       "      <th>member_gender</th>\n",
       "      <th>bike_share_for_all_trip</th>\n",
       "      <th>start_time_hour</th>\n",
       "      <th>end_time_hour</th>\n",
       "      <th>start_time_weekday</th>\n",
       "      <th>end_time_weekday</th>\n",
       "    </tr>\n",
       "  </thead>\n",
       "  <tbody>\n",
       "    <tr>\n",
       "      <th>0</th>\n",
       "      <td>52185</td>\n",
       "      <td>2019-02-28 17:32:10.145</td>\n",
       "      <td>2019-03-01 08:01:55.975</td>\n",
       "      <td>21</td>\n",
       "      <td>Montgomery St BART Station (Market St at 2nd St)</td>\n",
       "      <td>13</td>\n",
       "      <td>Commercial St at Montgomery St</td>\n",
       "      <td>4902</td>\n",
       "      <td>Customer</td>\n",
       "      <td>1984</td>\n",
       "      <td>Male</td>\n",
       "      <td>No</td>\n",
       "      <td>17</td>\n",
       "      <td>8</td>\n",
       "      <td>Thursday</td>\n",
       "      <td>Friday</td>\n",
       "    </tr>\n",
       "    <tr>\n",
       "      <th>1</th>\n",
       "      <td>42521</td>\n",
       "      <td>2019-02-28 18:53:21.789</td>\n",
       "      <td>2019-03-01 06:42:03.056</td>\n",
       "      <td>23</td>\n",
       "      <td>The Embarcadero at Steuart St</td>\n",
       "      <td>81</td>\n",
       "      <td>Berry St at 4th St</td>\n",
       "      <td>2535</td>\n",
       "      <td>Customer</td>\n",
       "      <td>0</td>\n",
       "      <td>NaN</td>\n",
       "      <td>No</td>\n",
       "      <td>18</td>\n",
       "      <td>6</td>\n",
       "      <td>Thursday</td>\n",
       "      <td>Friday</td>\n",
       "    </tr>\n",
       "    <tr>\n",
       "      <th>2</th>\n",
       "      <td>61854</td>\n",
       "      <td>2019-02-28 12:13:13.218</td>\n",
       "      <td>2019-03-01 05:24:08.146</td>\n",
       "      <td>86</td>\n",
       "      <td>Market St at Dolores St</td>\n",
       "      <td>3</td>\n",
       "      <td>Powell St BART Station (Market St at 4th St)</td>\n",
       "      <td>5905</td>\n",
       "      <td>Customer</td>\n",
       "      <td>1972</td>\n",
       "      <td>Male</td>\n",
       "      <td>No</td>\n",
       "      <td>12</td>\n",
       "      <td>5</td>\n",
       "      <td>Thursday</td>\n",
       "      <td>Friday</td>\n",
       "    </tr>\n",
       "    <tr>\n",
       "      <th>3</th>\n",
       "      <td>36490</td>\n",
       "      <td>2019-02-28 17:54:26.010</td>\n",
       "      <td>2019-03-01 04:02:36.842</td>\n",
       "      <td>375</td>\n",
       "      <td>Grove St at Masonic Ave</td>\n",
       "      <td>70</td>\n",
       "      <td>Central Ave at Fell St</td>\n",
       "      <td>6638</td>\n",
       "      <td>Subscriber</td>\n",
       "      <td>1989</td>\n",
       "      <td>Other</td>\n",
       "      <td>No</td>\n",
       "      <td>17</td>\n",
       "      <td>4</td>\n",
       "      <td>Thursday</td>\n",
       "      <td>Friday</td>\n",
       "    </tr>\n",
       "    <tr>\n",
       "      <th>4</th>\n",
       "      <td>1585</td>\n",
       "      <td>2019-02-28 23:54:18.549</td>\n",
       "      <td>2019-03-01 00:20:44.074</td>\n",
       "      <td>7</td>\n",
       "      <td>Frank H Ogawa Plaza</td>\n",
       "      <td>222</td>\n",
       "      <td>10th Ave at E 15th St</td>\n",
       "      <td>4898</td>\n",
       "      <td>Subscriber</td>\n",
       "      <td>1974</td>\n",
       "      <td>Male</td>\n",
       "      <td>Yes</td>\n",
       "      <td>23</td>\n",
       "      <td>0</td>\n",
       "      <td>Thursday</td>\n",
       "      <td>Friday</td>\n",
       "    </tr>\n",
       "  </tbody>\n",
       "</table>\n",
       "</div>"
      ],
      "text/plain": [
       "   duration_sec              start_time                end_time  \\\n",
       "0         52185 2019-02-28 17:32:10.145 2019-03-01 08:01:55.975   \n",
       "1         42521 2019-02-28 18:53:21.789 2019-03-01 06:42:03.056   \n",
       "2         61854 2019-02-28 12:13:13.218 2019-03-01 05:24:08.146   \n",
       "3         36490 2019-02-28 17:54:26.010 2019-03-01 04:02:36.842   \n",
       "4          1585 2019-02-28 23:54:18.549 2019-03-01 00:20:44.074   \n",
       "\n",
       "  start_station_id                                start_station_name  \\\n",
       "0               21  Montgomery St BART Station (Market St at 2nd St)   \n",
       "1               23                     The Embarcadero at Steuart St   \n",
       "2               86                           Market St at Dolores St   \n",
       "3              375                           Grove St at Masonic Ave   \n",
       "4                7                               Frank H Ogawa Plaza   \n",
       "\n",
       "  end_station_id                              end_station_name bike_id  \\\n",
       "0             13                Commercial St at Montgomery St    4902   \n",
       "1             81                            Berry St at 4th St    2535   \n",
       "2              3  Powell St BART Station (Market St at 4th St)    5905   \n",
       "3             70                        Central Ave at Fell St    6638   \n",
       "4            222                         10th Ave at E 15th St    4898   \n",
       "\n",
       "    user_type  member_birth_year member_gender bike_share_for_all_trip  \\\n",
       "0    Customer               1984          Male                      No   \n",
       "1    Customer                  0           NaN                      No   \n",
       "2    Customer               1972          Male                      No   \n",
       "3  Subscriber               1989         Other                      No   \n",
       "4  Subscriber               1974          Male                     Yes   \n",
       "\n",
       "   start_time_hour  end_time_hour start_time_weekday end_time_weekday  \n",
       "0               17              8           Thursday           Friday  \n",
       "1               18              6           Thursday           Friday  \n",
       "2               12              5           Thursday           Friday  \n",
       "3               17              4           Thursday           Friday  \n",
       "4               23              0           Thursday           Friday  "
      ]
     },
     "execution_count": 35,
     "metadata": {},
     "output_type": "execute_result"
    }
   ],
   "source": [
    "ford_clean.head()"
   ]
  },
  {
   "cell_type": "markdown",
   "metadata": {},
   "source": [
    "## Univariate Exploration\n",
    "\n",
    "> In this section, investigate distributions of individual variables. If\n",
    "you see unusual points or outliers, take a deeper look to clean things up\n",
    "and prepare yourself to look at relationships between variables."
   ]
  },
  {
   "cell_type": "code",
   "execution_count": 36,
   "metadata": {},
   "outputs": [],
   "source": [
    "#Set color\n",
    "base_color = sb.color_palette()[0]\n",
    "\n",
    "#Set Week Order\n",
    "week_order = [\"Monday\", \"Tuesday\", \"Wednesday\", \"Thursday\", \"Friday\", \"Saturday\", \"Sunday\"]"
   ]
  },
  {
   "cell_type": "code",
   "execution_count": 37,
   "metadata": {
    "scrolled": false
   },
   "outputs": [
    {
     "data": {
      "image/png": "[encoded data removed]",
      "text/plain": [
       "<Figure size 1440x1440 with 7 Axes>"
      ]
     },
     "metadata": {
      "needs_background": "light"
     },
     "output_type": "display_data"
    }
   ],
   "source": [
    "plt.figure(figsize=[20,20])\n",
    "\n",
    "#Duration plot\n",
    "plt.subplot(3,3,1)\n",
    "plt.hist(ford_clean[\"duration_sec\"])\n",
    "plt.title(\"Duration Distribution\");\n",
    "\n",
    "#Weekday start plot\n",
    "plt.subplot(3,3,2)\n",
    "sb.countplot(data=ford_clean, x=\"start_time_weekday\", order=week_order, color=base_color)\n",
    "plt.xticks(rotation=45)\n",
    "plt.title(\"Weekday Start Time Distribution\");\n",
    "\n",
    "#Weekday end plot\n",
    "plt.subplot(3,3,3)\n",
    "sb.countplot(data=ford_clean, x=\"end_time_weekday\", order=week_order, color=base_color)\n",
    "plt.xticks(rotation=45)\n",
    "plt.title(\"Weekday End Time Distribution\");\n",
    "\n",
    "#User type plot\n",
    "plt.subplot(3,3,4)\n",
    "sb.countplot(data=ford_clean, x=\"user_type\", color=base_color)\n",
    "plt.title(\"Type of user\");\n",
    "\n",
    "#Year of birth plot\n",
    "plt.subplot(3,3,5)\n",
    "plt.hist(ford_clean[\"member_birth_year\"])\n",
    "plt.title(\"Year of birth of users\")\n",
    "plt.xlabel(\"Year\");\n",
    "\n",
    "#Gender of member plot\n",
    "plt.subplot(3,3,6)\n",
    "sb.countplot(data=ford_clean, x=\"member_gender\", color=base_color)\n",
    "plt.title(\"Gender of users\");\n",
    "\n",
    "#Bike sharing plot\n",
    "plt.subplot(3,3,7)\n",
    "sb.countplot(data=ford_clean, x=\"bike_share_for_all_trip\", color=base_color)\n",
    "plt.title(\"Bike share for all trip\");\n"
   ]
  },
  {
   "cell_type": "markdown",
   "metadata": {},
   "source": [
    "After plotting all interesting variables together, two of them need to be reploted: the distribution for duration and the year of birth of users.\n",
    "\n",
    "Starting with the **distribution duration**. As we can see below, the chart does not give any visual advantage of the variable:"
   ]
  },
  {
   "cell_type": "code",
   "execution_count": 38,
   "metadata": {},
   "outputs": [
    {
     "data": {
      "image/png": "[encoded data removed]",
      "text/plain": [
       "<Figure size 432x288 with 1 Axes>"
      ]
     },
     "metadata": {
      "needs_background": "light"
     },
     "output_type": "display_data"
    }
   ],
   "source": [
    "plt.hist(ford_clean[\"duration_sec\"])\n",
    "plt.title(\"Duration Distribution\");"
   ]
  },
  {
   "cell_type": "markdown",
   "metadata": {},
   "source": [
    "To make it more visual, a smaller binsize of 60 seconds (1 minute) has been ploted. Because, there are some values around 80000 seconds that make the visualization not good, a limit to 3600 seconds (1 hour) should be enough to start noticing some differences."
   ]
  },
  {
   "cell_type": "code",
   "execution_count": 39,
   "metadata": {},
   "outputs": [
    {
     "data": {
      "image/png": "[encoded data removed]",
      "text/plain": [
       "<Figure size 432x288 with 1 Axes>"
      ]
     },
     "metadata": {
      "needs_background": "light"
     },
     "output_type": "display_data"
    }
   ],
   "source": [
    "binsize = 60\n",
    "bins = np.arange(0, ford_clean[\"duration_sec\"].max(), binsize)\n",
    "\n",
    "plt.hist(ford_clean[\"duration_sec\"], bins=bins)\n",
    "plt.title(\"Duration Distribution\")\n",
    "plt.xlim([0,3600]);"
   ]
  },
  {
   "cell_type": "code",
   "execution_count": 87,
   "metadata": {},
   "outputs": [],
   "source": [
    "ford_clean = ford_clean[ford_clean[\"duration_sec\"] <= 3600]"
   ]
  },
  {
   "cell_type": "markdown",
   "metadata": {},
   "source": [
    "Now we can clearly draw some conclussions from the histogram like the median time people rent the bike: around 500 seconds (8.5 minutes). All observations with values above 3600 seconds were  dropped to ensure the consistency of the analysis.\n",
    "\n",
    "Following with the **year of birth of users**, a modification is needed as well because we cannot draw any conclusion. All the missing values were filled with a 0 and the plot shows it:"
   ]
  },
  {
   "cell_type": "code",
   "execution_count": 88,
   "metadata": {},
   "outputs": [
    {
     "data": {
      "image/png": "[encoded data removed]",
      "text/plain": [
       "<Figure size 432x288 with 1 Axes>"
      ]
     },
     "metadata": {
      "needs_background": "light"
     },
     "output_type": "display_data"
    }
   ],
   "source": [
    "plt.hist(ford_clean[\"member_birth_year\"])\n",
    "plt.title(\"Year of birth of users\")\n",
    "plt.xlabel(\"Year\");"
   ]
  },
  {
   "cell_type": "markdown",
   "metadata": {},
   "source": [
    "Like the duration distribution, we will set a binsize of 1 to get more accuracy. Also, limits will be plotted around 1925."
   ]
  },
  {
   "cell_type": "code",
   "execution_count": 90,
   "metadata": {},
   "outputs": [
    {
     "data": {
      "image/png": "[encoded data removed]",
      "text/plain": [
       "<Figure size 432x288 with 1 Axes>"
      ]
     },
     "metadata": {
      "needs_background": "light"
     },
     "output_type": "display_data"
    }
   ],
   "source": [
    "binsize = 1\n",
    "bins = np.arange(ford_clean[\"member_birth_year\"].min(), ford_clean[\"member_birth_year\"].max(), binsize)\n",
    "\n",
    "plt.hist(ford_clean[\"member_birth_year\"], bins=bins)\n",
    "plt.title(\"Year of birth of users\")\n",
    "plt.xlim(1925,2000);"
   ]
  },
  {
   "cell_type": "markdown",
   "metadata": {},
   "source": [
    "In this case, we can clearly see that the most amount of people have been boorn between 1980 and 2000. Lets zoom in to find out."
   ]
  },
  {
   "cell_type": "code",
   "execution_count": 93,
   "metadata": {},
   "outputs": [
    {
     "data": {
      "image/png": "[encoded data removed]",
      "text/plain": [
       "<Figure size 432x288 with 1 Axes>"
      ]
     },
     "metadata": {
      "needs_background": "light"
     },
     "output_type": "display_data"
    }
   ],
   "source": [
    "#Set a list from 1980 to 2000 every year\n",
    "list = []\n",
    "count = 1980\n",
    "\n",
    "for i in range(21):\n",
    "    list.append(count + i)\n",
    "    \n",
    "#Set the bins\n",
    "binsize = 1\n",
    "bins = np.arange(ford_clean[\"member_birth_year\"].min(), ford_clean[\"member_birth_year\"].max(), binsize)\n",
    "\n",
    "#Plot the histogram\n",
    "plt.hist(data=ford_clean, x=\"member_birth_year\", bins=bins, rwidth=0.5)\n",
    "plt.title(\"Year of birth of users\")\n",
    "plt.xlim([1980,2000])\n",
    "plt.xticks(ticks=list, labels=list, rotation=45);"
   ]
  },
  {
   "cell_type": "markdown",
   "metadata": {},
   "source": [
    "Now, it is clearly visible that the most common year of birth between users of the platform is 1988."
   ]
  },
  {
   "cell_type": "markdown",
   "metadata": {},
   "source": [
    "### Discuss the distribution(s) of your variable(s) of interest. Were there any unusual points? Did you need to perform any transformations?\n",
    "\n",
    "In the **duration distribution**, a few anomalies were discovered. Some values were around 80,000 seconds which seems fairly unusual to rent a bike. They are probably misscalulations.\n",
    "\n",
    "In the **year of birth distribution** the values that were missing and filled with a 0 were causing some problems.\n",
    "\n",
    "### Of the features you investigated, were there any unusual distributions? Did you perform any operations on the data to tidy, adjust, or change the form of the data? If so, why did you do this?\n",
    "\n",
    "For the first problem, all the values above 3600 were dropped. The significance on the whole dataset is minimum as the frequency is so low. This way, we can assure more consistency in our data.\n",
    "\n",
    "For the second problem, no transformation on the data was required, just for the plotting."
   ]
  },
  {
   "cell_type": "markdown",
   "metadata": {},
   "source": [
    "## Bivariate Exploration\n",
    "\n",
    "> In this section, investigate relationships between pairs of variables in your\n",
    "data. Make sure the variables that you cover here have been introduced in some\n",
    "fashion in the previous section (univariate exploration)."
   ]
  },
  {
   "cell_type": "code",
   "execution_count": null,
   "metadata": {},
   "outputs": [],
   "source": []
  },
  {
   "cell_type": "markdown",
   "metadata": {},
   "source": [
    "### Talk about some of the relationships you observed in this part of the investigation. How did the feature(s) of interest vary with other features in the dataset?\n",
    "\n",
    "> Your answer here!\n",
    "\n",
    "### Did you observe any interesting relationships between the other features (not the main feature(s) of interest)?\n",
    "\n",
    "> Your answer here!"
   ]
  },
  {
   "cell_type": "markdown",
   "metadata": {},
   "source": [
    "## Multivariate Exploration\n",
    "\n",
    "> Create plots of three or more variables to investigate your data even\n",
    "further. Make sure that your investigations are justified, and follow from\n",
    "your work in the previous sections."
   ]
  },
  {
   "cell_type": "code",
   "execution_count": null,
   "metadata": {},
   "outputs": [],
   "source": []
  },
  {
   "cell_type": "markdown",
   "metadata": {},
   "source": [
    "### Talk about some of the relationships you observed in this part of the investigation. Were there features that strengthened each other in terms of looking at your feature(s) of interest?\n",
    "\n",
    "> Your answer here!\n",
    "\n",
    "### Were there any interesting or surprising interactions between features?\n",
    "\n",
    "> Your answer here!"
   ]
  },
  {
   "cell_type": "markdown",
   "metadata": {},
   "source": [
    "> At the end of your report, make sure that you export the notebook as an\n",
    "html file from the `File > Download as... > HTML` menu. Make sure you keep\n",
    "track of where the exported file goes, so you can put it in the same folder\n",
    "as this notebook for project submission. Also, make sure you remove all of\n",
    "the quote-formatted guide notes like this one before you finish your report!"
   ]
  },
  {
   "cell_type": "code",
   "execution_count": null,
   "metadata": {},
   "outputs": [],
   "source": []
  }
 ],
 "metadata": {
  "kernelspec": {
   "display_name": "Python 3",
   "language": "python",
   "name": "python3"
  },
  "language_info": {
   "codemirror_mode": {
    "name": "ipython",
    "version": 3
   },
   "file_extension": ".py",
   "mimetype": "text/x-python",
   "name": "python",
   "nbconvert_exporter": "python",
   "pygments_lexer": "ipython3",
   "version": "3.8.8"
  }
 },
 "nbformat": 4,
 "nbformat_minor": 2
}
