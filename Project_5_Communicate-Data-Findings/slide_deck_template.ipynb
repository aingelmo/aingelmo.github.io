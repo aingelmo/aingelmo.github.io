{
 "cells": [
  {
   "cell_type": "markdown",
   "metadata": {
    "slideshow": {
     "slide_type": "slide"
    }
   },
   "source": [
    "# Usage patterns in Ford GoBike bycicle sharing\n",
    "## by Andrés Ingelmo Poveda"
   ]
  },
  {
   "cell_type": "markdown",
   "metadata": {
    "slideshow": {
     "slide_type": "slide"
    }
   },
   "source": [
    "## Investigation Overview\n",
    "\n",
    "In this investigation, I wanted to analyse the different usage patterns that motivates users to rent a bike. The main focus was the duration of the ride depending on other variables like the customer type, their genre, the day of the week they did the ride...\n",
    "\n",
    "## Dataset Overview\n",
    "\n",
    "The dataset includes 180,000+ observations regarding individual rides made in a bike-sharing system covering the greater San Francisco area during the month of February 2019.\n"
   ]
  },
  {
   "cell_type": "code",
   "execution_count": 1,
   "metadata": {
    "slideshow": {
     "slide_type": "skip"
    }
   },
   "outputs": [],
   "source": [
    "# import all packages and set plots to be embedded inline\n",
    "import numpy as np\n",
    "import pandas as pd\n",
    "import matplotlib.pyplot as plt\n",
    "import seaborn as sb\n",
    "import os\n",
    "import requests\n",
    "\n",
    "%matplotlib inline\n",
    "\n",
    "# suppress warnings from final output\n",
    "import warnings\n",
    "warnings.simplefilter(\"ignore\")"
   ]
  },
  {
   "cell_type": "code",
   "execution_count": 2,
   "metadata": {
    "slideshow": {
     "slide_type": "skip"
    }
   },
   "outputs": [],
   "source": [
    "url = \"https://video.udacity-data.com/topher/2020/October/5f91cf38_201902-fordgobike-tripdata/201902-fordgobike-tripdata.csv\"\n",
    "file = \"fordgobikedata.csv\"\n",
    "\n",
    "# Function to get the file from the cloud\n",
    "def get_file(url, file):\n",
    "    # Get the file from the cloud\n",
    "    content = requests.get(url).text\n",
    "    # Write the file into \"fordgobikedata.csv\"\n",
    "    with open(file, \"w\", encoding=\"utf-8\") as f:\n",
    "        f.write(content)\n",
    "        \n",
    "##Run only the first time to get the file from the cloud!\n",
    "#get_file(url, file) ##<-- Remove \"#\" to run \n",
    "\n",
    "# Load the csv file into a pandas dataframe\n",
    "ford = pd.read_csv(file)"
   ]
  },
  {
   "cell_type": "code",
   "execution_count": 3,
   "metadata": {
    "slideshow": {
     "slide_type": "skip"
    }
   },
   "outputs": [],
   "source": [
    "#Create a copy of the original\n",
    "ford_clean = ford.copy()\n",
    "\n",
    "#Drop missing values \n",
    "ford_clean.dropna(inplace=True)\n",
    "\n",
    "#Convert to date/time\n",
    "ford_clean[\"start_time\"] = pd.to_datetime(ford_clean[\"start_time\"])\n",
    "ford_clean[\"end_time\"] = pd.to_datetime(ford_clean[\"end_time\"])\n",
    "\n",
    "#Divide date/time variables in order to plot it correctly\n",
    "ford_clean[\"start_time_hour\"] = pd.DatetimeIndex(ford_clean[\"start_time\"]).hour.astype(\"category\")\n",
    "ford_clean[\"end_time_hour\"] = pd.DatetimeIndex(ford_clean[\"end_time\"]).hour.astype(\"category\")\n",
    "\n",
    "#Get day of the week for the start an end time.\n",
    "ford_clean[\"start_time_weekday\"] = ford_clean[\"start_time\"].dt.dayofweek\n",
    "ford_clean[\"end_time_weekday\"] = ford_clean[\"end_time\"].dt.dayofweek\n",
    "\n",
    "#Convert day of the week to string\n",
    "week_dict = {0: \"Monday\", 1: \"Tuesday\", 2: \"Wednesday\", 3: \"Thursday\", 4: \"Friday\", 5: \"Saturday\", 6: \"Sunday\"}\n",
    "\n",
    "ford_clean[\"start_time_weekday\"].replace(week_dict, inplace=True)\n",
    "ford_clean[\"end_time_weekday\"].replace(week_dict, inplace=True)\n",
    "\n",
    "#Convert to strings as not calculations are required for the data below\n",
    "to_clean = [\"start_station_id\", \"end_station_id\", \"bike_id\"]\n",
    "\n",
    "for i in to_clean:\n",
    "    ford_clean[i] = ford_clean[i].fillna(0).astype(int).astype(str) \n",
    "\n",
    "    \n",
    "#Convert to categorical values\n",
    "ford_clean[\"member_gender\"] = ford_clean[\"member_gender\"].astype(\"category\")\n",
    "ford_clean[\"user_type\"] = ford_clean[\"user_type\"].astype(\"category\")\n",
    "ford_clean[\"member_birth_year\"] = ford_clean[\"member_birth_year\"].astype(int).astype(\"category\")\n",
    "ford_clean[\"bike_share_for_all_trip\"] = ford_clean[\"bike_share_for_all_trip\"].astype(\"category\")\n",
    "ford_clean[\"start_time_weekday\"] = ford_clean[\"start_time_weekday\"].astype(\"category\")\n",
    "ford_clean[\"end_time_weekday\"] = ford_clean[\"end_time_weekday\"].astype(\"category\")\n",
    "    \n",
    "#Drop Columns not necessary for the analysis\n",
    "ford_clean.drop(labels=[\"start_station_latitude\", \"start_station_longitude\", \"end_station_latitude\", \"end_station_longitude\"], axis=1, inplace=True);"
   ]
  },
  {
   "cell_type": "code",
   "execution_count": 4,
   "metadata": {
    "slideshow": {
     "slide_type": "skip"
    }
   },
   "outputs": [],
   "source": [
    "#Set color\n",
    "base_color = sb.color_palette()[0]\n",
    "\n",
    "#Set Week Order\n",
    "week_order = [\"Monday\", \"Tuesday\", \"Wednesday\", \"Thursday\", \"Friday\", \"Saturday\", \"Sunday\"]"
   ]
  },
  {
   "cell_type": "markdown",
   "metadata": {
    "slideshow": {
     "slide_type": "slide"
    }
   },
   "source": [
    "## Distribution of bike rides duration\n",
    "\n",
    "The duration of the bike rides in the dataset goes from 0 seconds to roughly 3,600 seconds (1 hour). The distribution takes on a unimodal shape:"
   ]
  },
  {
   "cell_type": "code",
   "execution_count": 8,
   "metadata": {
    "slideshow": {
     "slide_type": "subslide"
    }
   },
   "outputs": [
    {
     "data": {
      "image/png": "[encoded data removed]",
      "text/plain": [
       "<Figure size 576x360 with 1 Axes>"
      ]
     },
     "metadata": {
      "needs_background": "light"
     },
     "output_type": "display_data"
    }
   ],
   "source": [
    "binsize = 10\n",
    "bins = np.arange(0, ford_clean[\"duration_sec\"].max(), binsize)\n",
    "\n",
    "plt.figure(figsize=[8,5])\n",
    "plt.hist(ford_clean[\"duration_sec\"], bins=bins)\n",
    "plt.title(\"Distribution of bike rides duration\")\n",
    "plt.xlabel(\"Duration (seconds)\")\n",
    "plt.xlim([0,3600])\n",
    "plt.show()"
   ]
  },
  {
   "cell_type": "markdown",
   "metadata": {
    "collapsed": true,
    "slideshow": {
     "slide_type": "slide"
    }
   },
   "source": [
    "## (Visualization 2)\n",
    "\n",
    "> You should have at least three visualizations in your presentation,\n",
    "but feel free to add more if you'd like!"
   ]
  },
  {
   "cell_type": "code",
   "execution_count": null,
   "metadata": {
    "slideshow": {
     "slide_type": "subslide"
    }
   },
   "outputs": [],
   "source": []
  },
  {
   "cell_type": "markdown",
   "metadata": {
    "slideshow": {
     "slide_type": "slide"
    }
   },
   "source": [
    "## (Visualization 3)\n",
    "\n"
   ]
  },
  {
   "cell_type": "code",
   "execution_count": null,
   "metadata": {
    "slideshow": {
     "slide_type": "subslide"
    }
   },
   "outputs": [],
   "source": []
  },
  {
   "cell_type": "markdown",
   "metadata": {
    "slideshow": {
     "slide_type": "notes"
    }
   },
   "source": [
    "> Once you're ready to finish your presentation, check your output by using\n",
    "nbconvert to export the notebook and set up a server for the slides. From the\n",
    "terminal or command line, use the following expression:\n",
    "> > `jupyter nbconvert <file_name>.ipynb --to slides --post serve --template output_toggle`\n",
    "\n",
    "> This should open a tab in your web browser where you can scroll through your\n",
    "presentation. Sub-slides can be accessed by pressing 'down' when viewing its parent\n",
    "slide. Make sure you remove all of the quote-formatted guide notes like this one\n",
    "before you finish your presentation!"
   ]
  },
  {
   "cell_type": "code",
   "execution_count": null,
   "metadata": {},
   "outputs": [],
   "source": []
  }
 ],
 "metadata": {
  "celltoolbar": "Slideshow",
  "kernelspec": {
   "display_name": "Python 3",
   "language": "python",
   "name": "python3"
  },
  "language_info": {
   "codemirror_mode": {
    "name": "ipython",
    "version": 3
   },
   "file_extension": ".py",
   "mimetype": "text/x-python",
   "name": "python",
   "nbconvert_exporter": "python",
   "pygments_lexer": "ipython3",
   "version": "3.8.8"
  }
 },
 "nbformat": 4,
 "nbformat_minor": 2
}
