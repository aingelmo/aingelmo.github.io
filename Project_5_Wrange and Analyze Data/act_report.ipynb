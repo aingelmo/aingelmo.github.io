{
 "cells": [
  {
   "cell_type": "markdown",
   "id": "e121d745",
   "metadata": {},
   "source": [
    "# WeRateDogs data insights"
   ]
  },
  {
   "cell_type": "markdown",
   "id": "7e595f95",
   "metadata": {},
   "source": [
    "<a id='introduction'></a>\n",
    "## Introduction\n",
    "\n",
    "_The following is a description of all efforts done to make the clean file `twitter-archive-enhanced.csv`. The code and steps done can be checked in `wrangle_act.ipynb`._\n",
    "\n",
    "At this point, you may be wondering, \"OK, WeRateDogs is a great profile but... what is their most popular content? What are the most common breeds?\" These questions and more will be answered in the following report. I decided to analyze 2000+ tweets from WeRateDogs between the years 2015 and 2017 to solve your doubts.\n",
    "\n",
    "But first, lets load the necessary libraries and data."
   ]
  },
  {
   "cell_type": "code",
   "execution_count": 1,
   "id": "a96d1854",
   "metadata": {},
   "outputs": [],
   "source": [
    "%matplotlib inline\n",
    "\n",
    "import pandas as pd\n",
    "import matplotlib.pyplot as plt\n",
    "from matplotlib.pyplot import figure\n",
    "import seaborn as sns\n",
    "\n",
    "df = pd.read_csv(\"twitter_archive_master.csv\")"
   ]
  },
  {
   "cell_type": "markdown",
   "id": "0322fc5d",
   "metadata": {},
   "source": [
    "<a id='analysis'></a>\n",
    "## Analysis\n",
    "\n",
    "Before starting the analysis, it'd great to get an overview of the dataset.\n",
    "\n"
   ]
  },
  {
   "cell_type": "code",
   "execution_count": 2,
   "id": "2699a7bd",
   "metadata": {
    "scrolled": true
   },
   "outputs": [
    {
     "data": {
      "text/html": [
       "<div>\n",
       "<style scoped>\n",
       "    .dataframe tbody tr th:only-of-type {\n",
       "        vertical-align: middle;\n",
       "    }\n",
       "\n",
       "    .dataframe tbody tr th {\n",
       "        vertical-align: top;\n",
       "    }\n",
       "\n",
       "    .dataframe thead th {\n",
       "        text-align: right;\n",
       "    }\n",
       "</style>\n",
       "<table border=\"1\" class=\"dataframe\">\n",
       "  <thead>\n",
       "    <tr style=\"text-align: right;\">\n",
       "      <th></th>\n",
       "      <th>tweet_id</th>\n",
       "      <th>in_reply_to_status_id_x</th>\n",
       "      <th>in_reply_to_user_id_x</th>\n",
       "      <th>timestamp</th>\n",
       "      <th>source_x</th>\n",
       "      <th>text_x</th>\n",
       "      <th>expanded_urls</th>\n",
       "      <th>rating_numerator</th>\n",
       "      <th>rating_denominator</th>\n",
       "      <th>name</th>\n",
       "      <th>...</th>\n",
       "      <th>img_num</th>\n",
       "      <th>p1</th>\n",
       "      <th>p1_conf</th>\n",
       "      <th>p1_dog</th>\n",
       "      <th>p2</th>\n",
       "      <th>p2_conf</th>\n",
       "      <th>p2_dog</th>\n",
       "      <th>p3</th>\n",
       "      <th>p3_conf</th>\n",
       "      <th>p3_dog</th>\n",
       "    </tr>\n",
       "  </thead>\n",
       "  <tbody>\n",
       "    <tr>\n",
       "      <th>0</th>\n",
       "      <td>892420643555336193</td>\n",
       "      <td>0</td>\n",
       "      <td>0</td>\n",
       "      <td>2017-08-01 16:23:56+00:00</td>\n",
       "      <td>&lt;a href=\"http://twitter.com/download/iphone\" r...</td>\n",
       "      <td>This is Phineas. He's a mystical boy. Only eve...</td>\n",
       "      <td>https://twitter.com/dog_rates/status/892420643...</td>\n",
       "      <td>13</td>\n",
       "      <td>10</td>\n",
       "      <td>Phineas</td>\n",
       "      <td>...</td>\n",
       "      <td>1.0</td>\n",
       "      <td>orange</td>\n",
       "      <td>0.097049</td>\n",
       "      <td>False</td>\n",
       "      <td>bagel</td>\n",
       "      <td>0.085851</td>\n",
       "      <td>False</td>\n",
       "      <td>banana</td>\n",
       "      <td>0.076110</td>\n",
       "      <td>False</td>\n",
       "    </tr>\n",
       "    <tr>\n",
       "      <th>1</th>\n",
       "      <td>892177421306343426</td>\n",
       "      <td>0</td>\n",
       "      <td>0</td>\n",
       "      <td>2017-08-01 00:17:27+00:00</td>\n",
       "      <td>&lt;a href=\"http://twitter.com/download/iphone\" r...</td>\n",
       "      <td>This is Tilly. She's just checking pup on you....</td>\n",
       "      <td>https://twitter.com/dog_rates/status/892177421...</td>\n",
       "      <td>13</td>\n",
       "      <td>10</td>\n",
       "      <td>Tilly</td>\n",
       "      <td>...</td>\n",
       "      <td>1.0</td>\n",
       "      <td>chihuahua</td>\n",
       "      <td>0.323581</td>\n",
       "      <td>True</td>\n",
       "      <td>pekinese</td>\n",
       "      <td>0.090647</td>\n",
       "      <td>True</td>\n",
       "      <td>papillon</td>\n",
       "      <td>0.068957</td>\n",
       "      <td>True</td>\n",
       "    </tr>\n",
       "    <tr>\n",
       "      <th>2</th>\n",
       "      <td>891815181378084864</td>\n",
       "      <td>0</td>\n",
       "      <td>0</td>\n",
       "      <td>2017-07-31 00:18:03+00:00</td>\n",
       "      <td>&lt;a href=\"http://twitter.com/download/iphone\" r...</td>\n",
       "      <td>This is Archie. He is a rare Norwegian Pouncin...</td>\n",
       "      <td>https://twitter.com/dog_rates/status/891815181...</td>\n",
       "      <td>12</td>\n",
       "      <td>10</td>\n",
       "      <td>Archie</td>\n",
       "      <td>...</td>\n",
       "      <td>1.0</td>\n",
       "      <td>chihuahua</td>\n",
       "      <td>0.716012</td>\n",
       "      <td>True</td>\n",
       "      <td>malamute</td>\n",
       "      <td>0.078253</td>\n",
       "      <td>True</td>\n",
       "      <td>kelpie</td>\n",
       "      <td>0.031379</td>\n",
       "      <td>True</td>\n",
       "    </tr>\n",
       "  </tbody>\n",
       "</table>\n",
       "<p>3 rows × 36 columns</p>\n",
       "</div>"
      ],
      "text/plain": [
       "             tweet_id  in_reply_to_status_id_x  in_reply_to_user_id_x  \\\n",
       "0  892420643555336193                        0                      0   \n",
       "1  892177421306343426                        0                      0   \n",
       "2  891815181378084864                        0                      0   \n",
       "\n",
       "                   timestamp  \\\n",
       "0  2017-08-01 16:23:56+00:00   \n",
       "1  2017-08-01 00:17:27+00:00   \n",
       "2  2017-07-31 00:18:03+00:00   \n",
       "\n",
       "                                            source_x  \\\n",
       "0  <a href=\"http://twitter.com/download/iphone\" r...   \n",
       "1  <a href=\"http://twitter.com/download/iphone\" r...   \n",
       "2  <a href=\"http://twitter.com/download/iphone\" r...   \n",
       "\n",
       "                                              text_x  \\\n",
       "0  This is Phineas. He's a mystical boy. Only eve...   \n",
       "1  This is Tilly. She's just checking pup on you....   \n",
       "2  This is Archie. He is a rare Norwegian Pouncin...   \n",
       "\n",
       "                                       expanded_urls  rating_numerator  \\\n",
       "0  https://twitter.com/dog_rates/status/892420643...                13   \n",
       "1  https://twitter.com/dog_rates/status/892177421...                13   \n",
       "2  https://twitter.com/dog_rates/status/891815181...                12   \n",
       "\n",
       "   rating_denominator     name  ... img_num         p1   p1_conf p1_dog  \\\n",
       "0                  10  Phineas  ...     1.0     orange  0.097049  False   \n",
       "1                  10    Tilly  ...     1.0  chihuahua  0.323581   True   \n",
       "2                  10   Archie  ...     1.0  chihuahua  0.716012   True   \n",
       "\n",
       "         p2   p2_conf p2_dog        p3   p3_conf p3_dog  \n",
       "0     bagel  0.085851  False    banana  0.076110  False  \n",
       "1  pekinese  0.090647   True  papillon  0.068957   True  \n",
       "2  malamute  0.078253   True    kelpie  0.031379   True  \n",
       "\n",
       "[3 rows x 36 columns]"
      ]
     },
     "execution_count": 2,
     "metadata": {},
     "output_type": "execute_result"
    }
   ],
   "source": [
    "df.head(3)"
   ]
  },
  {
   "cell_type": "code",
   "execution_count": 3,
   "id": "a448fb36",
   "metadata": {},
   "outputs": [
    {
     "name": "stdout",
     "output_type": "stream",
     "text": [
      "<class 'pandas.core.frame.DataFrame'>\n",
      "RangeIndex: 2356 entries, 0 to 2355\n",
      "Data columns (total 36 columns):\n",
      " #   Column                   Non-Null Count  Dtype  \n",
      "---  ------                   --------------  -----  \n",
      " 0   tweet_id                 2356 non-null   int64  \n",
      " 1   in_reply_to_status_id_x  2356 non-null   int64  \n",
      " 2   in_reply_to_user_id_x    2356 non-null   int64  \n",
      " 3   timestamp                2356 non-null   object \n",
      " 4   source_x                 2356 non-null   object \n",
      " 5   text_x                   2356 non-null   object \n",
      " 6   expanded_urls            2356 non-null   object \n",
      " 7   rating_numerator         2356 non-null   int64  \n",
      " 8   rating_denominator       2356 non-null   int64  \n",
      " 9   name                     2356 non-null   object \n",
      " 10  term                     2356 non-null   object \n",
      " 11  truncated                1163 non-null   object \n",
      " 12  entities                 1163 non-null   object \n",
      " 13  extended_entities        834 non-null    object \n",
      " 14  in_reply_to_screen_name  35 non-null     object \n",
      " 15  user                     1163 non-null   object \n",
      " 16  is_quote_status          1163 non-null   object \n",
      " 17  retweet_count            1163 non-null   float64\n",
      " 18  favorite_count           1163 non-null   float64\n",
      " 19  favorited                1163 non-null   object \n",
      " 20  retweeted                1163 non-null   object \n",
      " 21  possibly_sensitive       1163 non-null   object \n",
      " 22  lang                     1163 non-null   object \n",
      " 23  quoted_status_id         1163 non-null   float64\n",
      " 24  quoted_status            18 non-null     object \n",
      " 25  jpg_url                  2075 non-null   object \n",
      " 26  img_num                  2075 non-null   float64\n",
      " 27  p1                       2075 non-null   object \n",
      " 28  p1_conf                  2075 non-null   float64\n",
      " 29  p1_dog                   2075 non-null   object \n",
      " 30  p2                       2075 non-null   object \n",
      " 31  p2_conf                  2075 non-null   float64\n",
      " 32  p2_dog                   2075 non-null   object \n",
      " 33  p3                       2075 non-null   object \n",
      " 34  p3_conf                  2075 non-null   float64\n",
      " 35  p3_dog                   2075 non-null   object \n",
      "dtypes: float64(7), int64(5), object(24)\n",
      "memory usage: 662.8+ KB\n"
     ]
    }
   ],
   "source": [
    "df.info()"
   ]
  },
  {
   "cell_type": "markdown",
   "id": "6ecf7832",
   "metadata": {},
   "source": [
    "We will start by analyzing **how WeRateDogs have been tweeting along that timeframe**. To do that, we'll plot an histogram to get a visual representation of it."
   ]
  },
  {
   "cell_type": "code",
   "execution_count": 4,
   "id": "e54e6361",
   "metadata": {},
   "outputs": [
    {
     "data": {
      "image/png": "[encoded data removed]",
      "text/plain": [
       "<Figure size 1440x720 with 1 Axes>"
      ]
     },
     "metadata": {
      "needs_background": "light"
     },
     "output_type": "display_data"
    }
   ],
   "source": [
    "#Convert timestamp to date_time\n",
    "df[\"timestamp\"] = pd.to_datetime(df[\"timestamp\"])\n",
    "#Plot graph\n",
    "figure(figsize=(20,10))\n",
    "sns.histplot(df[\"timestamp\"])\n",
    "plt.xlabel(\"Tweet time\")\n",
    "plt.ylabel(\"Number of tweets\")\n",
    "plt.title(\"Distribution of tweets over time\");"
   ]
  },
  {
   "cell_type": "markdown",
   "id": "9c207479",
   "metadata": {},
   "source": [
    "The graph above shows the amount of tweets posted by the account between November 15th, 2015 and August 1st, 2017. The distribution is right skewed so more tweets were posted in the early stages of the account. This might be related to the fact they were less known by that time. Some social media profiles, as they began to be more known, they stop releasing content so frequently. This, in some cases, is not to make their audience go bored.\n",
    "\n",
    "Another really important question that people ask a lot is about the most **common dog breed posted in WeRateDogs**. To answer this, well analyze the data from the algorythm predictions about the pictures."
   ]
  },
  {
   "cell_type": "code",
   "execution_count": 5,
   "id": "4a2d3103",
   "metadata": {},
   "outputs": [
    {
     "name": "stderr",
     "output_type": "stream",
     "text": [
      "C:\\Users\\andrw\\anaconda3\\lib\\site-packages\\seaborn\\_decorators.py:36: FutureWarning: Pass the following variables as keyword args: x, y. From version 0.12, the only valid positional argument will be `data`, and passing other arguments without an explicit keyword will result in an error or misinterpretation.\n",
      "  warnings.warn(\n"
     ]
    },
    {
     "data": {
      "image/png": "[encoded data removed]",
      "text/plain": [
       "<Figure size 1440x720 with 1 Axes>"
      ]
     },
     "metadata": {
      "needs_background": "light"
     },
     "output_type": "display_data"
    }
   ],
   "source": [
    "#Define values\n",
    "breeds = df[\"p1\"].value_counts().index[0:10]\n",
    "counts = df[\"p1\"].value_counts().values[0:10]\n",
    "#Plot the graph\n",
    "figure(figsize=(20,10))\n",
    "sns.barplot(breeds, counts);"
   ]
  },
  {
   "cell_type": "markdown",
   "id": "efd10124",
   "metadata": {},
   "source": [
    "The most common dog breed identified by the algorithm was the golden retriever with 150 results. It is follow by the labrador retriever with 100 and the pembroke, also known as corgi, with 89. This result only applies to the 2075 observations catched by the algorithm. Reality may vary.\n",
    "\n",
    "But, can we say that golden retriever is the most common dog breed posted in WeRateDogs? Of course not. We do not have enough evicende to support that hypothesis. The data we analyzed was only from 2015 to 2017. They may be biased when posting content about this type of dogs. Maybe they attract more audience, maybe they look more cute... we don't know that for sure based on this data.\n",
    "\n",
    "Other question that may come to your mind is about the **most popular tweet**. We can analyze that by: getting the most liked tweet or the most retweeted one. We'll get both to get out of doubts."
   ]
  },
  {
   "cell_type": "code",
   "execution_count": 6,
   "id": "cf9c0700",
   "metadata": {},
   "outputs": [
    {
     "data": {
      "text/plain": [
       "1039    744234799360020481\n",
       "Name: tweet_id, dtype: int64"
      ]
     },
     "execution_count": 6,
     "metadata": {},
     "output_type": "execute_result"
    }
   ],
   "source": [
    "#Most Retweeted\n",
    "df.sort_values(\"retweet_count\", ascending=False).tweet_id.head(1)"
   ]
  },
  {
   "cell_type": "code",
   "execution_count": 7,
   "id": "39f640df",
   "metadata": {},
   "outputs": [
    {
     "data": {
      "text/plain": [
       "1039    744234799360020481\n",
       "Name: tweet_id, dtype: int64"
      ]
     },
     "execution_count": 7,
     "metadata": {},
     "output_type": "execute_result"
    }
   ],
   "source": [
    "#Most Liked\n",
    "df.sort_values(\"favorite_count\", ascending=False).tweet_id.head(1)"
   ]
  },
  {
   "cell_type": "markdown",
   "id": "1097a558",
   "metadata": {},
   "source": [
    "It seems that tweet id \"744234799360020481\" is the most popular one! If we want to retrieve it, we can get the extended url: https://twitter.com/dog_rates/status/744234799360020481. It looks that a doggo in the pool is the most popular tweet between 2015 an 2017!\n",
    "\n",
    "To finish the analysis, we will study if the **most common dog breeds generate the most popular tweets**. To do that, we need to get the ten most popular tweets, the ten breeds that retrieves the maximum amount of likes and the ten most common breeds."
   ]
  },
  {
   "cell_type": "code",
   "execution_count": 8,
   "id": "e397d20e",
   "metadata": {},
   "outputs": [
    {
     "name": "stdout",
     "output_type": "stream",
     "text": [
      "golden retriever\n",
      "chow\n",
      "labrador retriever\n"
     ]
    }
   ],
   "source": [
    "#Ten most liked tweets\n",
    "liked = df.sort_values(\"favorite_count\", ascending=False).tweet_id[:10]\n",
    "#Ten breeds that retrieves the maximum amount of likes\n",
    "breeds_pop = df[df[\"tweet_id\"].isin(liked)].p1.tolist()\n",
    "#Ten most common breeds\n",
    "breeds_common = df[\"p1\"].value_counts().index[0:10].tolist()\n",
    "#Most liked breeds in most common breeds\n",
    "for i in breeds_pop:\n",
    "    if i in breeds_common:\n",
    "        print(i)"
   ]
  },
  {
   "cell_type": "markdown",
   "id": "c1e72e21",
   "metadata": {},
   "source": [
    "As we can see, it seems to be right! At least three of the most common dog breeds posted by WeRateDogs are generating the most popular tweets. It looks like they know what they are doing! By posting more content about those type of dogs, the chances of going viral can increase. They should be posting more content about golden retrievers, chows and labrador retrievers!"
   ]
  },
  {
   "cell_type": "markdown",
   "id": "920f8417",
   "metadata": {},
   "source": [
    "## Conclusion\n",
    "\n",
    "There is plenty of data to be analysed from this dataset. Yet, for the purpose of this notebook, what we've done should be enough. We learned that WeRateDogs used to post more in their beginnings. They also love to post about Golden Retrievers and it's a good choice! We've seen that the Golden Retriever was among the ten dog breeds that generated one of the most popular tweets."
   ]
  }
 ],
 "metadata": {
  "kernelspec": {
   "display_name": "Python 3",
   "language": "python",
   "name": "python3"
  },
  "language_info": {
   "codemirror_mode": {
    "name": "ipython",
    "version": 3
   },
   "file_extension": ".py",
   "mimetype": "text/x-python",
   "name": "python",
   "nbconvert_exporter": "python",
   "pygments_lexer": "ipython3",
   "version": "3.8.8"
  }
 },
 "nbformat": 4,
 "nbformat_minor": 5
}
